{
 "cells": [
  {
   "cell_type": "markdown",
   "metadata": {},
   "source": [
    "## Challenge One (two bugs)\n",
    "The following code should print Lucy's funny joke'"
   ]
  },
  {
   "cell_type": "code",
   "execution_count": 2,
   "metadata": {
    "collapsed": false
   },
   "outputs": [
    {
     "name": "stdout",
     "output_type": "stream",
     "text": [
      "Did you hear about the mathematician who is afraid of negative numbers\n",
      "He would stop at nothing to avoid them\n"
     ]
    }
   ],
   "source": [
    "# define my function\n",
    "def funnyjoke():\n",
    "    print (\"Did you hear about the mathematician who is afraid of negative numbers\")\n",
    "    print (\"He would stop at nothing to avoid them\")\n",
    "\n",
    "# call my function\n",
    "funnyjoke()\n",
    "# function call without (), no \"\" around a string"
   ]
  },
  {
   "cell_type": "markdown",
   "metadata": {},
   "source": [
    "## Challenge Two (three bugs)\n",
    "The following code should tell you to have a lovely 2017!"
   ]
  },
  {
   "cell_type": "code",
   "execution_count": 3,
   "metadata": {
    "collapsed": false
   },
   "outputs": [
    {
     "name": "stdout",
     "output_type": "stream",
     "text": [
      "Have a lovely 2017!\n"
     ]
    }
   ],
   "source": [
    "year = 2017\n",
    "\n",
    "if year == 2017:\n",
    "    print('Have a lovely 2017!')\n",
    "# single equals for comparison, different variable types for 2017, no :"
   ]
  },
  {
   "cell_type": "markdown",
   "metadata": {},
   "source": [
    "## Challenge Three (three bugs)\n",
    "The following code should tell you how many eggs you have."
   ]
  },
  {
   "cell_type": "code",
   "execution_count": 4,
   "metadata": {
    "collapsed": false
   },
   "outputs": [
    {
     "name": "stdout",
     "output_type": "stream",
     "text": [
      "I have 12 eggs.\n"
     ]
    }
   ],
   "source": [
    "numEggs = 12\n",
    "\n",
    "print('I have ' + str(numEggs) +  ' eggs.')\n",
    "# need to explicitly turn int into string type, missing ' for eggs, indentation error"
   ]
  },
  {
   "cell_type": "markdown",
   "metadata": {},
   "source": [
    "## Challenge Four (three bugs)\n",
    "Input the year, month and day you were born. The code should return your age."
   ]
  },
  {
   "cell_type": "code",
   "execution_count": 5,
   "metadata": {
    "collapsed": false
   },
   "outputs": [
    {
     "name": "stdout",
     "output_type": "stream",
     "text": [
      "Your age is 10778 days and 36213 seconds\n"
     ]
    }
   ],
   "source": [
    "from datetime import datetime\n",
    "day = 16   # eg: day = 5\n",
    "month = 10  # eg: month = 10\n",
    "year = 1987  # eg: year = 1993\n",
    "\n",
    "delta = datetime.now() - datetime(year, month, day)\n",
    "print (\"Your age is \" + str(delta.days) + \" days and \" + str(delta.seconds) + \" seconds\")\n",
    "#type for the word 'from', missing () around print statement, capitalised year  "
   ]
  },
  {
   "cell_type": "markdown",
   "metadata": {},
   "source": [
    "## Challenge Five (two bugs)\n",
    "We want this code to do two things:\n",
    "- First, print a *single* list of ten random numbers between 1 and 10\n",
    "- Second, sum up the first three numbers"
   ]
  },
  {
   "cell_type": "code",
   "execution_count": 6,
   "metadata": {
    "collapsed": false
   },
   "outputs": [
    {
     "name": "stdout",
     "output_type": "stream",
     "text": [
      "[6, 3, 7, 2, 8, 2, 5, 9, 3, 1]\n"
     ]
    },
    {
     "data": {
      "text/plain": [
       "16"
      ]
     },
     "execution_count": 6,
     "metadata": {},
     "output_type": "execute_result"
    }
   ],
   "source": [
    "import random    \n",
    "my_randoms=[]    \n",
    "for i in range (10):    \n",
    "    my_randoms.append(random.randrange(1,10,1))    \n",
    "print (my_randoms) \n",
    "# Note: there is a simpler way of doing this using the random.sample function: my_randoms = random.sample(xrange(100), 10)\n",
    "\n",
    "sum(my_randoms[0:3])\n",
    "# print statement in wrong place, indexing from 1 not 0"
   ]
  },
  {
   "cell_type": "markdown",
   "metadata": {},
   "source": [
    "## Challenge Six (two bugs)\n",
    "random password generator"
   ]
  },
  {
   "cell_type": "code",
   "execution_count": 7,
   "metadata": {
    "collapsed": false
   },
   "outputs": [
    {
     "name": "stdout",
     "output_type": "stream",
     "text": [
      ";kob@L?Y\n"
     ]
    }
   ],
   "source": [
    "import string\n",
    "from random import *\n",
    "\n",
    "def create_password(minChar,maxChar):\n",
    "    if minChar > maxChar:\n",
    "        print (\"minChar must be less than maxChar\")\n",
    "        return\n",
    "    characters = string.ascii_letters + string.punctuation  + string.digits\n",
    "    password =  \"\".join(choice(characters) for x in range(randint(minChar,maxChar)))\n",
    "    print (password)\n",
    "\n",
    "create_password(5,15)\n",
    "# only one argument given in function call, > instead of <"
   ]
  },
  {
   "cell_type": "markdown",
   "metadata": {},
   "source": [
    "## Challenge Seven (three bugs)\n",
    "-The following function should return True if a number is prime and False if not. \n",
    "-Test it in a cell below to see if it works."
   ]
  },
  {
   "cell_type": "code",
   "execution_count": 8,
   "metadata": {
    "collapsed": false
   },
   "outputs": [],
   "source": [
    "def is_prime(number):\n",
    "    if number == 2:\n",
    "        return True\n",
    "    for divisor in range(2, number):\n",
    "        #note that the percentage sign gives the modulus in python\n",
    "        if (number % divisor) != 0:\n",
    "            return True\n",
    "    return False\n",
    "# single equals sign for comparison, comment not commented out, return statement at wrong place."
   ]
  },
  {
   "cell_type": "code",
   "execution_count": 9,
   "metadata": {
    "collapsed": false
   },
   "outputs": [
    {
     "data": {
      "text/plain": [
       "True"
      ]
     },
     "execution_count": 9,
     "metadata": {},
     "output_type": "execute_result"
    }
   ],
   "source": [
    "# Test here to see if it works\n",
    "is_prime(5)\n"
   ]
  },
  {
   "cell_type": "markdown",
   "metadata": {},
   "source": [
    "## Challenge Eight (two bugs)"
   ]
  },
  {
   "cell_type": "code",
   "execution_count": 11,
   "metadata": {
    "collapsed": false
   },
   "outputs": [],
   "source": [
    "import smtplib\n",
    "\n",
    "def send_email(msg):\n",
    "# you are going to send an email from the bath comp chem account.\n",
    "    # gmail server and port. This changes for different email providers.\n",
    "    server = smtplib.SMTP('smtp.gmail.com', 587)\n",
    "    # security\n",
    "    server.starttls()\n",
    "    server.login('lucydotipynb@gmail.com', 'e-noether')\n",
    " \n",
    "    server.sendmail('lucydotipynb@gmail.com','lucywhalley@gmail.com' , msg)\n",
    "    server.quit()\n",
    "    \n",
    "send_email(\"check it out\")\n",
    "# no : after function, need to call with msg variable"
   ]
  },
  {
   "cell_type": "markdown",
   "metadata": {},
   "source": [
    "## Extension Challenge\n"
   ]
  },
  {
   "cell_type": "code",
   "execution_count": 22,
   "metadata": {
    "collapsed": true
   },
   "outputs": [],
   "source": [
    "# Example correct code here. Note use of global (dangerous).\n",
    "NumKittens = 42\n",
    "\n",
    "def new_kitten(Kittens):\n",
    "    print(\"You used to have \" + str(Kittens) + \" kittens.\")\n",
    "    global NumKittens\n",
    "    NumKittens = Kittens + 1\n",
    "    print (\"Now you have \" + str(NumKittens)+\" !!\")"
   ]
  },
  {
   "cell_type": "code",
   "execution_count": 25,
   "metadata": {
    "collapsed": false
   },
   "outputs": [
    {
     "name": "stdout",
     "output_type": "stream",
     "text": [
      "You used to have 44 kittens.\n",
      "Now you have 45 !!\n"
     ]
    }
   ],
   "source": [
    "new_kitten(NumKittens)"
   ]
  },
  {
   "cell_type": "code",
   "execution_count": null,
   "metadata": {
    "collapsed": true
   },
   "outputs": [],
   "source": []
  }
 ],
 "metadata": {
  "kernelspec": {
   "display_name": "Python 3",
   "language": "python",
   "name": "python3"
  },
  "language_info": {
   "codemirror_mode": {
    "name": "ipython",
    "version": 3
   },
   "file_extension": ".py",
   "mimetype": "text/x-python",
   "name": "python",
   "nbconvert_exporter": "python",
   "pygments_lexer": "ipython3",
   "version": "3.5.0"
  }
 },
 "nbformat": 4,
 "nbformat_minor": 0
}
