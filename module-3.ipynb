{
 "cells": [
  {
   "cell_type": "markdown",
   "metadata": {
    "collapsed": true
   },
   "source": [
    "# Energy Materials: Design, Discovery and Data\n",
    "\n",
    "## 3. Design Principles for Energy Technologies"
   ]
  },
  {
   "cell_type": "markdown",
   "metadata": {},
   "source": [
    "![](./images/design.png)\n",
    "<center>From [Nature Chemistry](http://www.nature.com/nchem/journal/v7/n4/full/nchem.2213.html) (2015)</center>"
   ]
  },
  {
   "cell_type": "markdown",
   "metadata": {},
   "source": [
    "## Advance Reading\n",
    "Read [TE Design Lab: A virtual laboratory for thermoelectric material design](http://www.sciencedirect.com/science/article/pii/S0927025615007132) (Compuational Materials Science, 2016)\n",
    "\n",
    "See also: http://www.tedesignlab.org"
   ]
  },
  {
   "cell_type": "markdown",
   "metadata": {},
   "source": [
    "## Lecture Slides \n",
    "On [Speakerdeck](https://speakerdeck.com/aronwalsh)"
   ]
  },
  {
   "cell_type": "code",
   "execution_count": 1,
   "metadata": {
    "collapsed": false
   },
   "outputs": [
    {
     "data": {
      "text/html": [
       "<script async class=\"speakerdeck-embed\" data-id=\"f4e158ee57bf433fb6eff222ae083cdc\" data-ratio=\"1.33333333333333\" src=\"//speakerdeck.com/assets/embed.js\"></script>"
      ],
      "text/plain": [
       "<IPython.core.display.HTML object>"
      ]
     },
     "metadata": {},
     "output_type": "display_data"
    }
   ],
   "source": [
    "%%HTML \n",
    "<script async class=\"speakerdeck-embed\" data-id=\"f4e158ee57bf433fb6eff222ae083cdc\" data-ratio=\"1.33333333333333\" src=\"//speakerdeck.com/assets/embed.js\"></script>"
   ]
  },
  {
   "cell_type": "markdown",
   "metadata": {},
   "source": [
    "## pyExample: Effective Mass Theory \n",
    "\n",
    "Improved from https://github.com/WMD-group/effectivemasstheory "
   ]
  },
  {
   "cell_type": "markdown",
   "metadata": {},
   "source": [
    "Effective mass theory is a useful tool in semiconductor physics for gaining insights into the properties of electrons and holes, including exciton binding energies, quantum confinement in nanostructures, and defect transitions. The concept is that carriers in semiconductors behave like free electrons except with a modified mass that is determined by the band structure. This is not always true, but it is good place to start from. The theory is covered well in [Yu and Cardona's textbook](https://books.google.co.uk/books/about/Fundamentals_of_Semiconductors.html?id=W9pdJZoAeyEC&redir_esc=y)."
   ]
  },
  {
   "cell_type": "markdown",
   "metadata": {},
   "source": [
    "### Python Setup"
   ]
  },
  {
   "cell_type": "code",
   "execution_count": 26,
   "metadata": {
    "collapsed": false
   },
   "outputs": [
    {
     "name": "stdout",
     "output_type": "stream",
     "text": [
      "Populating the interactive namespace from numpy and matplotlib\n"
     ]
    }
   ],
   "source": [
    "import sys\n",
    "assert sys.version_info >= (3,4)\n",
    "import math as m\n",
    "import scipy.constants as sc\n",
    "%pylab inline"
   ]
  },
  {
   "cell_type": "markdown",
   "metadata": {},
   "source": [
    "### Input: Materials Properties"
   ]
  },
  {
   "cell_type": "markdown",
   "metadata": {},
   "source": [
    "We require a set of properties that define the bulk electronic and dielectric properties of our material (effective masses, dielectric constants and an optical phonon frequency)"
   ]
  },
  {
   "cell_type": "code",
   "execution_count": 27,
   "metadata": {
    "collapsed": false
   },
   "outputs": [
    {
     "name": "stdout",
     "output_type": "stream",
     "text": [
      "Effective screening: 5.210526315789474 epsilon\n",
      "Reduced mass: 0.06666666666666665 m_e\n"
     ]
    }
   ],
   "source": [
    "## Default is CH3NH3PbI3\n",
    "h = 0.12 # hole effective mass / m_e\n",
    "e = 0.15 # electron effective mass / m_e\n",
    "d0 = 33 # static dielectric constant / epsilon\n",
    "d1 = 4.5 # optical dielectric constant / epsilon \n",
    "lo = 2.25 # optical phonon frequency / THz\n",
    "\n",
    "# Reduced mass and screening\n",
    "mass=((e*h)/(e+h))\n",
    "diel=(1/d1-1/d0)\n",
    "\n",
    "print (\"Effective screening: \" + str(1/diel) + \" epsilon\")\n",
    "print (\"Reduced mass: \" + str(mass) + \" m_e\")"
   ]
  },
  {
   "cell_type": "markdown",
   "metadata": {},
   "source": [
    "Electrons and hole carriers can interact to form a new quasi-particle, an exciton, with a characteristic radius and binding energy"
   ]
  },
  {
   "cell_type": "markdown",
   "metadata": {},
   "source": [
    "### Calculate: Exciton Properties"
   ]
  },
  {
   "cell_type": "code",
   "execution_count": 31,
   "metadata": {
    "collapsed": false
   },
   "outputs": [
    {
     "name": "stdout",
     "output_type": "stream",
     "text": [
      "Shallow acceptor radius: 145.52 A (14.55 nm)\n",
      "Shallow donor radius: 116.42 A (11.64 nm) \n",
      "\n",
      "Exciton radius: 261.94 A\n",
      "Exciton binding energy: 0.83 meV\n"
     ]
    }
   ],
   "source": [
    "radius_bohr=(d0/mass)\n",
    "radius=(d0/mass)*0.529177249 # Bohr to Angstrom\n",
    "radius_h=(d0/h)*0.529177249 # Bohr to Angstrom\n",
    "radius_e=(d0/e)*0.529177249 # Bohr to Angstrom\n",
    "\n",
    "print (\"Shallow acceptor radius: %3.2f A (%3.2f nm)\" %(radius_h, radius_h/10))\n",
    "print (\"Shallow donor radius: %3.2f A (%3.2f nm) \\n\" %(radius_e, radius_e/10))    \n",
    "\n",
    "# Binding energy from Mott-Wannier theory\n",
    "binding=((1/(d0*radius_bohr))*(13.605698066*1000))\n",
    "\n",
    "print (\"Exciton radius: %3.2f A\" %(radius))\n",
    "print (\"Exciton binding energy: %3.2f meV\" %(binding))    "
   ]
  },
  {
   "cell_type": "markdown",
   "metadata": {},
   "source": [
    "#### Task: Modify the above code to calculate and print the instanteous and thermalised exciton binding energy "
   ]
  },
  {
   "cell_type": "markdown",
   "metadata": {},
   "source": [
    "### Calculate: Polarons"
   ]
  },
  {
   "cell_type": "markdown",
   "metadata": {},
   "source": [
    "The analysis above is based on the effective mass of an electron or hole from the curvature of the electronic band structure - sometimes termed a Bloch effective mass. In reality, an electron or hole will interact with the lattice and form a new quasi-particle, a polaron. "
   ]
  },
  {
   "cell_type": "code",
   "execution_count": 32,
   "metadata": {
    "collapsed": false
   },
   "outputs": [
    {
     "name": "stdout",
     "output_type": "stream",
     "text": [
      "Hole band polaron radius: 45.95 A\n",
      "Electron band polaron radius: 36.76 A\n",
      "\n",
      "Polaron coupling constants: 1.80  2.01\n",
      "Renormalised masses: 0.16 m_e (+ 30%)  0.20 m_e (+ 33%)\n",
      "\n",
      "Hole large polaron radius: 35.36 A\n",
      "Electron large polaron radius: 27.54 A\n"
     ]
    }
   ],
   "source": [
    "## From Mott (1968)\n",
    "radius_bohr_h=(2/(h*diel))\n",
    "radius_bohr_e=(2/(e*diel))\n",
    "radius_bh=(2/(h*diel))*0.529177249\n",
    "radius_be=(2/(e*diel))*0.529177249\n",
    "\n",
    "print (\"Hole band polaron radius: %3.2f A\" %(radius_bh))\n",
    "print (\"Electron band polaron radius: %3.2f A\" %(radius_be))\n",
    "\n",
    "# Include lattice vibrations - phonons\n",
    "freq = lo*0.0003039659692 # THz to Ry\n",
    "h_alpha=(1/2)*diel*m.sqrt(2*h/freq)\n",
    "e_alpha=(1/2)*diel*m.sqrt(2*e/freq)\n",
    "\n",
    "print (\"\\nPolaron coupling constants: %3.2f  %3.2f\" %(h_alpha, e_alpha))\n",
    "\n",
    "# Small polaron mass (Feynman)\n",
    "h_pol=h*(1+h_alpha/6)\n",
    "e_pol=e*(1+e_alpha/6)\n",
    "\n",
    "print (\"Renormalised masses: %3.2f m_e (+%3.0f%%)  %3.2f m_e (+%3.0f%%)\" %(h_pol,(100*h_alpha/6),e_pol,(100*e_alpha/6)))\n",
    "\n",
    "# Small polaron radius\n",
    "radius_bhp=(2/(h_pol*diel))*0.529177249\n",
    "radius_bep=(2/(e_pol*diel))*0.529177249\n",
    "\n",
    "print (\"\\nHole large polaron radius: %3.2f A\" %(radius_bhp))\n",
    "print (\"Electron large polaron radius: %3.2f A\" %(radius_bep))"
   ]
  },
  {
   "cell_type": "markdown",
   "metadata": {},
   "source": [
    "#### Task: If the lattice constant of the cubic unit cell is 6.3 A, how many unit cells is an electronic carrier spread over? "
   ]
  },
  {
   "cell_type": "markdown",
   "metadata": {},
   "source": [
    "### Calculate: Mott Semiconductor-Metal Transition"
   ]
  },
  {
   "cell_type": "markdown",
   "metadata": {},
   "source": [
    "When the concentrations of electrons or holes in a semiconductors is high enough so that their wavefunctions overlap, there is an electronic transition where the metal starts to repond like a metal. The critical concentration is determined by the Mott criteria. The original theory was by [Mott](http://www.tandfonline.com/doi/abs/10.1080/14786436108243318) and extended to a large family of materials by [Edwards and Seinko (1978)](http://journals.aps.org/prb/abstract/10.1103/PhysRevB.17.2575)."
   ]
  },
  {
   "cell_type": "code",
   "execution_count": 33,
   "metadata": {
    "collapsed": false
   },
   "outputs": [
    {
     "name": "stdout",
     "output_type": "stream",
     "text": [
      "Exciton transition: 1e+16 cm-3\n",
      "Hole transition: p = 2e+17 cm-3\n",
      "Electron transition: n = 4e+17 cm-3\n"
     ]
    }
   ],
   "source": [
    "# Exciton transition ~ 1/exciton volume (Optical properties of Solids - Mark Fox)\n",
    "mott=((1/(4/3*sc.pi*(radius_bohr**3)))*(188971616.463**3))\n",
    "print (\"Exciton transition: %3.0e cm-3\" %(mott))\n",
    "\n",
    "# Mott transition (holes)\n",
    "mott=(((0.26/radius_bohr_h)**3)*(188971616.463**3))\n",
    "print (\"Hole transition: p = %3.0e cm-3\" %(mott))\n",
    "    \n",
    "# Mott transition (electrons)\n",
    "mott=(((0.26/radius_bohr_e)**3)*(188971616.463**3))\n",
    "print (\"Electron transition: n = %3.0e cm-3\" %(mott))\n",
    "    \n",
    "# Note that the value of 0.26 for the Mott Criteron is taken from:\n",
    "# \"Universality aspects of the metal-nonmetal transition in condensed media\"\n",
    "# Edwards and Seinko, PRB 17, 2575 (1978) "
   ]
  },
  {
   "cell_type": "markdown",
   "metadata": {
    "collapsed": true
   },
   "source": [
    "## Supplementary Links \n",
    "\n",
    "* Thermoelectrics: http://www.tedesignlab.org\n",
    "* Batteries: https://materialsproject.org/#search/batteries/\n",
    "* Superalloys: http://aflowlib.org/superalloys/\n",
    "\n"
   ]
  }
 ],
 "metadata": {
  "kernelspec": {
   "display_name": "Python 3",
   "language": "python",
   "name": "python3"
  },
  "language_info": {
   "codemirror_mode": {
    "name": "ipython",
    "version": 3
   },
   "file_extension": ".py",
   "mimetype": "text/x-python",
   "name": "python",
   "nbconvert_exporter": "python",
   "pygments_lexer": "ipython3",
   "version": "3.5.2"
  }
 },
 "nbformat": 4,
 "nbformat_minor": 0
}
