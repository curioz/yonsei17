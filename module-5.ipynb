{
 "cells": [
  {
   "cell_type": "markdown",
   "metadata": {
    "deletable": true,
    "editable": true
   },
   "source": [
    "# Energy Materials: Design, Discovery and Data\n",
    "\n",
    "## 5. Exploring the Materials Hyperspace"
   ]
  },
  {
   "cell_type": "markdown",
   "metadata": {
    "deletable": true,
    "editable": true
   },
   "source": [
    "## Advance Reading\n",
    "[High-throughput Screening of All Stoichiometric Inorganic Materials](opus.bath.ac.uk/52755/) (Chem, 2016)   \n",
    "[The Scale of Materials Design](https://hackingmaterials.com/2013/11/14/the-scale-of-materials-design/) (Blog entry, Anubhav Jain, 2013)\n",
    "\n",
    "## Lecture slides\n",
    "\n"
   ]
  },
  {
   "cell_type": "markdown",
   "metadata": {
    "deletable": true,
    "editable": true
   },
   "source": [
    "## Contents\n",
    "\n",
    "- [The Combinatorial Explosion](#combinatorial_explosion)\n",
    "- [Mapping Out Chemical Space](#smact)\n",
    "- [Interacting With Databases](#MP_API)"
   ]
  },
  {
   "cell_type": "markdown",
   "metadata": {
    "collapsed": true,
    "deletable": true,
    "editable": true
   },
   "source": [
    "## The Combinatorial Explosion <a id=\"combinatorial_explosion\"></a>\n",
    "\n",
    "We can use some simple maths plus our Python skills to solve this combinatorial problem.   \n",
    "\n",
    "<div class=\"alert alert-success\"> 1. First, set some variables to use in our equations"
   ]
  },
  {
   "cell_type": "code",
   "execution_count": null,
   "metadata": {
    "collapsed": false,
    "deletable": true,
    "editable": true
   },
   "outputs": [],
   "source": [
    "n_elements =\n",
    "n_atoms =\n",
    "n_gridpoints ="
   ]
  },
  {
   "cell_type": "markdown",
   "metadata": {
    "deletable": true,
    "editable": true
   },
   "source": [
    "<div class=\"alert alert-success\"> 2. Show that assigning each of the $30$ atoms as one of $50$ elements results in about $ 9\\times10^{50}$ permutations   \n",
    "Use the expression for calculating permutations, $n^r$, where $n$ = number of elements and $r$ = number of atoms  "
   ]
  },
  {
   "cell_type": "code",
   "execution_count": null,
   "metadata": {
    "collapsed": false,
    "deletable": true,
    "editable": true
   },
   "outputs": [],
   "source": [
    "element_assignments =\n",
    "print('number of possible element assignments is:  {:.2E}'.format(element_assignments))"
   ]
  },
  {
   "cell_type": "markdown",
   "metadata": {
    "deletable": true,
    "editable": true
   },
   "source": [
    "<div class=\"alert alert-success\"> 3. Show that the number of possible arrangements of $30$ atoms on a grid of $10\\times10\\times10$ is $~2\\times10^{57}$    \n",
    "Use the expression for calculating combinations, $\\dfrac{n}{r!(n-r)!}$, where $n$ = number of grid points and $r$ = number of atoms <br/>"
   ]
  },
  {
   "cell_type": "code",
   "execution_count": null,
   "metadata": {
    "collapsed": false,
    "deletable": true,
    "editable": true
   },
   "outputs": [],
   "source": [
    "from math import factorial as factorial # We import this useful function to make life easier. e.g. 5! = factorial(5)\n",
    "atom_arrangements =\n",
    "print('number of atom arrangements is:  {:.2E}'.format(atom_arrangements))"
   ]
  },
  {
   "cell_type": "markdown",
   "metadata": {
    "deletable": true,
    "editable": true
   },
   "source": [
    "<div class=\"alert alert-success\"> 4. Finally, show that the total number of potential \"materials\" is about $2\\times10^{108}$     \n",
    " We require a simple equation which gives us the total number of possibilities from the above results <br/>"
   ]
  },
  {
   "cell_type": "code",
   "execution_count": null,
   "metadata": {
    "collapsed": false,
    "deletable": true,
    "editable": true
   },
   "outputs": [],
   "source": [
    "total =\n",
    "print('total number of \"materials\" is:  {:.2E}'.format(total))"
   ]
  },
  {
   "cell_type": "markdown",
   "metadata": {
    "deletable": true,
    "editable": true
   },
   "source": [
    "## Mapping Out Chemical Space <a id=\"smact\"></a>\n",
    "#### Using SMACT\n",
    "\n",
    "<div class=\"alert alert-success\"> 1. Add a line to the code below which will print out the last element in the list <br/>"
   ]
  },
  {
   "cell_type": "code",
   "execution_count": null,
   "metadata": {
    "collapsed": false,
    "deletable": true,
    "editable": true,
    "scrolled": false
   },
   "outputs": [],
   "source": [
    "import smact # For generating Element objects and combine them according to certain rules\n",
    "\n",
    "# We set up a dictionary of SMACT Element objects\n",
    "all_elements = smact.element_dictionary()\n",
    "\n",
    "# We choose the elements we want using another SMACT function and put them in a list\n",
    "elements = []\n",
    "for i in smact.ordered_elements(1,18):\n",
    "    elements.append(all_elements[i])\n",
    "\n",
    "print('The first element in the list is {0}'.format(elements[0].symbol))\n",
    "print('The number of elements is {0}'.format(len(elements)))"
   ]
  },
  {
   "cell_type": "markdown",
   "metadata": {
    "deletable": true,
    "editable": true
   },
   "source": [
    "Let's cycle through all the unique binary combinations in our list:"
   ]
  },
  {
   "cell_type": "code",
   "execution_count": null,
   "metadata": {
    "collapsed": false,
    "deletable": true,
    "editable": true
   },
   "outputs": [],
   "source": [
    "for i, ele_a in enumerate(elements):\n",
    "    for j, ele_b in enumerate(elements[i+1:]):\n",
    "        print(ele_a.symbol, ele_b.symbol)"
   ]
  },
  {
   "cell_type": "markdown",
   "metadata": {
    "deletable": true,
    "editable": true
   },
   "source": [
    "Now let's include each oxidation state:"
   ]
  },
  {
   "cell_type": "code",
   "execution_count": null,
   "metadata": {
    "collapsed": false,
    "deletable": true,
    "editable": true
   },
   "outputs": [],
   "source": [
    "for i, ele_a in enumerate(elements):\n",
    "    for ox_a in ele_a.oxidation_states:\n",
    "        for j, ele_b in enumerate(elements[i+1:]):\n",
    "            for ox_b in ele_b.oxidation_states:\n",
    "                print(ele_a.symbol, ox_a, ele_b.symbol, ox_b)"
   ]
  },
  {
   "cell_type": "markdown",
   "metadata": {
    "deletable": true,
    "editable": true
   },
   "source": [
    "It looks like He, Ne and Ar have disappeared altogether! That's because they have no non-zero oxidation states so SMACT does not include them."
   ]
  },
  {
   "cell_type": "markdown",
   "metadata": {
    "deletable": true,
    "editable": true
   },
   "source": [
    "We can add a counter to see how many combinations we have:"
   ]
  },
  {
   "cell_type": "code",
   "execution_count": null,
   "metadata": {
    "collapsed": false,
    "deletable": true,
    "editable": true
   },
   "outputs": [],
   "source": [
    "counter = 0\n",
    "for i, ele_a in enumerate(elements):\n",
    "    for ox_a in ele_a.oxidation_states:\n",
    "        for j, ele_b in enumerate(elements[i+1:]):\n",
    "            for ox_b in ele_b.oxidation_states:\n",
    "                counter += 1\n",
    "print('The number of combinations is:  {0}'.format(counter))      "
   ]
  },
  {
   "cell_type": "markdown",
   "metadata": {
    "deletable": true,
    "editable": true
   },
   "source": [
    "<div class=\"alert alert-success\"> 2. a) Modify the cell above, adding another level of nested for loops, to count up how many _ternary_ combinations are possible for these elements\n",
    "\n",
    "b) Check that the right thing is being counted by printing out each combination <br/>"
   ]
  },
  {
   "cell_type": "markdown",
   "metadata": {
    "deletable": true,
    "editable": true
   },
   "source": [
    "Finally, we can add a function so that only allows charge neutral combinations are counted:"
   ]
  },
  {
   "cell_type": "code",
   "execution_count": null,
   "metadata": {
    "collapsed": false,
    "deletable": true,
    "editable": true
   },
   "outputs": [],
   "source": [
    "counter = 0\n",
    "for i, ele_a in enumerate(elements):\n",
    "    for ox_a in ele_a.oxidation_states:\n",
    "        for j, ele_b in enumerate(elements[i+1:]):\n",
    "            for ox_b in ele_b.oxidation_states:\n",
    "                cn_e, cn_r = smact.neutral_ratios([ox_a, ox_b], threshold=1)\n",
    "                if cn_e:\n",
    "                    print('{0} {1} and {2} {3}  are charge neutral in the ratios  {4}'.format(ele_a.symbol, ox_a,\n",
    "                                                                                              ele_b.symbol, ox_b,\n",
    "                                                                                              cn_r))\n",
    "                    counter += 1\n",
    "print('The number of combinations is:  {0}'.format(counter))"
   ]
  },
  {
   "cell_type": "markdown",
   "metadata": {
    "deletable": true,
    "editable": true
   },
   "source": [
    "## Interacting with Databases <a id=\"MP_API\"></a>"
   ]
  },
  {
   "cell_type": "markdown",
   "metadata": {
    "deletable": true,
    "editable": true
   },
   "source": [
    "\n",
    "<div class=\"alert alert-success\"> 1. Insert your own API key in the correct place in the cell below. <br/>\n",
    "This can be found on your [Materials Project Dashboard](https://materialsproject.org/dashboard).   \n",
    "You can put the string directly into the parentheses after `MPRester`."
   ]
  },
  {
   "cell_type": "code",
   "execution_count": null,
   "metadata": {
    "collapsed": false,
    "deletable": true,
    "editable": true
   },
   "outputs": [],
   "source": [
    "from pymatgen import MPRester\n",
    "m = MPRester(\"MP_API_KEY_GOES_IN_THESE_QUOTE_MARKS\")"
   ]
  },
  {
   "cell_type": "markdown",
   "metadata": {
    "deletable": true,
    "editable": true
   },
   "source": [
    "<div class=\"alert alert-success\"> 2. Check that the API is working by running the cell below. <br/>\n",
    "Feel free to replace the formula with one of your favourites!"
   ]
  },
  {
   "cell_type": "code",
   "execution_count": null,
   "metadata": {
    "collapsed": false,
    "deletable": true,
    "editable": true
   },
   "outputs": [],
   "source": [
    "favourite_formula = 'SnS'\n",
    "\n",
    "criteria = {'pretty_formula':favourite_formula}  # We set the criteria we want to search for \n",
    "properties = ['task_id', 'pretty_formula', 'final_energy_per_atom', 'full_formula']  # and what properties we want\n",
    "data = m.query(criteria,properties) # then submit the query using the API\n",
    "\n",
    "print('Number of compounds of {0} in the Materials Project:  {1}'.format(favourite_formula, len(data)))"
   ]
  },
  {
   "cell_type": "markdown",
   "metadata": {
    "deletable": true,
    "editable": true
   },
   "source": [
    "We can print out all the data using some simple for loops. The first iterates through each dictionary in the list that is returned by the API. The second iterates through each `key:value` pair in each dictionary:"
   ]
  },
  {
   "cell_type": "code",
   "execution_count": null,
   "metadata": {
    "collapsed": false,
    "deletable": true,
    "editable": true
   },
   "outputs": [],
   "source": [
    "for entry in data:\n",
    "    for key, value in entry.items():\n",
    "        print('{0} :   {1}'.format(key, value))\n",
    "    print('-----')"
   ]
  },
  {
   "cell_type": "markdown",
   "metadata": {
    "deletable": true,
    "editable": true
   },
   "source": [
    "Look again at the form of the `MPRester query` function two cells above. It takes two arguments:   \n",
    "*Criteria:*  The syntax for this can get a little complex, but is essentially based on Python dictionaries. It allows us to do advanced, specific searches.    \n",
    "*Properties:*  This is the list of properties which must come from a [predefined list](https://github.com/materialsproject/mapidoc/tree/master/materials) of keywords. These keywords can be used to specify criteria.\n",
    "\n",
    "The cell below retrieves all the binary oxides of Li and Na. Read it and run it to see what it does: "
   ]
  },
  {
   "cell_type": "code",
   "execution_count": null,
   "metadata": {
    "collapsed": false,
    "deletable": true,
    "editable": true,
    "scrolled": true
   },
   "outputs": [],
   "source": [
    "# Getting all the binary oxides of Li and Na in a single search\n",
    "criteria = {\"elements\":{\"$in\":[\"Li\", \"Na\"], \"$all\": [\"O\"]}, \"nelements\":2}\n",
    "properties = ['task_id', 'pretty_formula', 'full_formula']\n",
    "data = m.query(criteria,properties)\n",
    "\n",
    "print('MP I.D.         full formula')\n",
    "for entry in data:\n",
    "    print('{0:15}   {1}'.format(entry['task_id'], entry['full_formula']))"
   ]
  },
  {
   "cell_type": "markdown",
   "metadata": {
    "deletable": true,
    "editable": true
   },
   "source": [
    "<div class=\"alert alert-success\"> 3. a) Modify the cell above so that it instead retrieves all the binary *nitrides* of Li, Na *and K*    \n",
    " b) In addition to the MP I.D. and full formula, have it print out the D.O.I. of the material <br/>"
   ]
  },
  {
   "cell_type": "markdown",
   "metadata": {
    "deletable": true,
    "editable": true
   },
   "source": [
    "<div class=\"alert alert-success\"> 4. See if you can come up with a query that returns the `'pretty formula'` of every entry in the Materials Project (just for fun) <br/>"
   ]
  },
  {
   "cell_type": "code",
   "execution_count": 22,
   "metadata": {
    "collapsed": true,
    "deletable": true,
    "editable": true
   },
   "outputs": [],
   "source": [
    "# Hint: Think of a property that is common to all the structures in the database...\n"
   ]
  },
  {
   "cell_type": "markdown",
   "metadata": {},
   "source": [
    "### Extension exercises"
   ]
  },
  {
   "cell_type": "markdown",
   "metadata": {},
   "source": [
    "** These exercises are to be carried out in the final cell of the 'Mapping out the chemical space' section **"
   ]
  },
  {
   "cell_type": "markdown",
   "metadata": {
    "deletable": true,
    "editable": true
   },
   "source": [
    "<div class=\"alert alert-success\"> Extension 1. a) Modify the code so it counts ternary charge neutral combinations instead of binary <br/>"
   ]
  },
  {
   "cell_type": "markdown",
   "metadata": {},
   "source": [
    "<div class=\"alert alert-success\"> Extension 1. b) Make it print out the total number of ternary combinations *and* the total number of charge neutral ternary combinations in a clear format <br/>"
   ]
  },
  {
   "cell_type": "markdown",
   "metadata": {
    "deletable": true,
    "editable": true
   },
   "source": [
    "<div class=\"alert alert-success\"> Extension 2. a) Experiment with the neutral_ratios 'threshold' to see how it affects the number of combinations. <br/>"
   ]
  },
  {
   "cell_type": "markdown",
   "metadata": {},
   "source": [
    "<div class=\"alert alert-success\"> Extension 2. b) Experiment with the number of elements we consider in our initial list at the begining of this section to see how that affects the number of combinations. <br/>"
   ]
  },
  {
   "cell_type": "code",
   "execution_count": null,
   "metadata": {
    "collapsed": true
   },
   "outputs": [],
   "source": []
  }
 ],
 "metadata": {
  "kernelspec": {
   "display_name": "Python 3",
   "language": "python",
   "name": "python3"
  },
  "language_info": {
   "codemirror_mode": {
    "name": "ipython",
    "version": 3
   },
   "file_extension": ".py",
   "mimetype": "text/x-python",
   "name": "python",
   "nbconvert_exporter": "python",
   "pygments_lexer": "ipython3",
   "version": "3.5.2"
  }
 },
 "nbformat": 4,
 "nbformat_minor": 2
}
