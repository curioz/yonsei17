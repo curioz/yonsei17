{
 "cells": [
  {
   "cell_type": "markdown",
   "metadata": {
    "collapsed": true
   },
   "source": [
    "# Energy Materials: Design, Discovery and Data\n",
    "\n",
    "## 6. Materials Theory and Simulation"
   ]
  },
  {
   "cell_type": "markdown",
   "metadata": {},
   "source": [
    "![](./images/lengthscales.png)\n",
    "<center>From http://www.icams.de</center>"
   ]
  },
  {
   "cell_type": "markdown",
   "metadata": {},
   "source": [
    "## Advance Reading\n",
    "[Challenges in Modeling Materials Properties Without Experimental Input (Science, 2008)](http://science.sciencemag.org/content/321/5890/800)"
   ]
  },
  {
   "cell_type": "markdown",
   "metadata": {},
   "source": [
    "## Lecture Slides \n",
    "On [Speakerdeck](https://speakerdeck.com/aronwalsh)"
   ]
  },
  {
   "cell_type": "code",
   "execution_count": null,
   "metadata": {
    "collapsed": true
   },
   "outputs": [],
   "source": [
    "%%HTML \n",
    "<To embed>"
   ]
  },
  {
   "cell_type": "markdown",
   "metadata": {},
   "source": [
    "## pyExample: Band Structure of Si\n",
    "\n",
    "Adapted from https://gist.github.com/necromanteion/3987bfd8a0f38f7dff4e by W. M. Medlar, where the form of the Hamiltonian and the interaction paramaters are taken from [Chadi and Cohen (1975)](http://onlinelibrary.wiley.com/doi/10.1002/pssb.2220680140/abstract). The tight-binding method is an attractive electronic structure approach due to its simplicity. It requires only a few parameters to calculate the band structure of a crystal. This example for bulk silicon requires six empirical parameters."
   ]
  },
  {
   "cell_type": "code",
   "execution_count": 39,
   "metadata": {
    "collapsed": false
   },
   "outputs": [
    {
     "name": "stdout",
     "output_type": "stream",
     "text": [
      "Populating the interactive namespace from numpy and matplotlib\n"
     ]
    }
   ],
   "source": [
    "# System setup\n",
    "import sys\n",
    "assert sys.version_info >= (3,4)\n",
    "import numpy as np\n",
    "from matplotlib import pyplot as plt\n",
    "%pylab inline"
   ]
  },
  {
   "cell_type": "markdown",
   "metadata": {},
   "source": [
    "### Define Functions"
   ]
  },
  {
   "cell_type": "code",
   "execution_count": 43,
   "metadata": {
    "collapsed": false
   },
   "outputs": [],
   "source": [
    "def phase(k, neighbors):\n",
    "    '''\n",
    "    Determines phase factors of overlap parameters using the assumption of\n",
    "    nearest neighbor overlap\n",
    "    \n",
    "    args:\n",
    "        k: A numpy array of shape (3,) that represents the k-point at which to\n",
    "           calculate phase factors\n",
    "        neighbors: A numpy array of shape (4, 3) that represents the four nearest\n",
    "                   neighbors in the lattice of an atom centered at (0, 0, 0)\n",
    "                   \n",
    "    returns:\n",
    "        A numpy array of shape (4,) containing the (complex) phase factors\n",
    "    '''\n",
    "    \n",
    "    a, b, c, d = [np.exp(1j * k @ neighbor) for neighbor in neighbors]\n",
    "    factors = np.array([\n",
    "        a + b + c + d,\n",
    "        a + b - c - d,\n",
    "        a - b + c - d,\n",
    "        a - b - c + d\n",
    "    ])\n",
    "    return (1 / 4) * factors\n",
    "\n",
    "def band_energies(g, es, ep, vss, vsp, vxx, vxy):\n",
    "    '''\n",
    "    Calculates the band energies (eigenvalues) of a material using the\n",
    "    tight-binding approximation for nearest-neighbor interactions\n",
    "    \n",
    "    args:\n",
    "        g: A numpy array of shape (4,) representing the phase factors with respect\n",
    "           to a wavevector k and the crystal's nearest neighbors\n",
    "        es, ep, vss, vsp, vxx, vxy: Parameters for orbital overlap\n",
    "                                interactions between nearest neighbors\n",
    "                                    \n",
    "    returns:\n",
    "        A numpy array of shape (8,) containing the eigenvalues of the\n",
    "        corresponding Hamiltonian\n",
    "    '''\n",
    "    \n",
    "    gc = np.conjugate(g)\n",
    "\n",
    "    hamiltonian = np.array([\n",
    "        [         es,  vss * g[0],            0,            0,            0, vsp * g[1], vsp * g[2], vsp * g[3]],\n",
    "        [vss * gc[0],          es, -vsp * gc[1], -vsp * gc[2], -vsp * gc[3],          0,          0,          0],\n",
    "        [          0, -vsp * g[1],           ep,            0,            0, vxx * g[0], vxy * g[3], vxy * g[1]],\n",
    "        [          0, -vsp * g[2],            0,           ep,            0, vxy * g[3], vxx * g[0], vxy * g[1]],\n",
    "        [          0, -vsp * g[3],            0,            0,           ep, vxy * g[1], vxy * g[2], vxx * g[0]],\n",
    "        [vsp * gc[1],           0,  vxx * gc[0],  vxy * gc[3],  vxy * gc[1],         ep,         0,           0],\n",
    "        [vsp * gc[2],           0,  vxy * gc[3],  vxx * gc[0],  vxy * gc[2],          0,        ep,           0],\n",
    "        [vsp * gc[3],           0,  vxy * gc[1],  vxy * gc[1],  vxx * gc[0],          0,         0,          ep]\n",
    "    ])\n",
    "\n",
    "    eigvals = np.linalg.eigvalsh(hamiltonian)\n",
    "    eigvals.sort()\n",
    "    return eigvals\n",
    "\n",
    "def band_structure(params, neighbors, path):\n",
    "    \n",
    "    bands = []\n",
    "    \n",
    "    for k in np.vstack(path):\n",
    "        g = phase(k, neighbors)\n",
    "        eigvals = band_energies(g, *params)\n",
    "        bands.append(eigvals)\n",
    "    return np.stack(bands, axis=-1)\n",
    "\n",
    "def linpath(a, b, n=50, endpoint=True):\n",
    "    '''\n",
    "    Creates an array of n equally spaced points along the path a -> b, not inclusive\n",
    "\n",
    "    args:\n",
    "        a: Starting position\n",
    "        b: Ending position\n",
    "        n: Integer number of sample points (defaults to 50)\n",
    "        \n",
    "    returns:\n",
    "        A numpy array of shape (n, k) where k is the shortest length of either\n",
    "        iterable -- a or b\n",
    "    '''\n",
    "    # list of n linear spacings between the start and end \n",
    "    spacings = [np.linspace(start, end, num=n, endpoint=endpoint) for start, end in zip(a, b)]\n",
    "    \n",
    "    # stacks along their last axis, transforming a list of spacings into an array of points of len n\n",
    "    return np.stack(spacings, axis=-1)"
   ]
  },
  {
   "cell_type": "markdown",
   "metadata": {},
   "source": [
    "### Define: Silicon (Diamond lattice)"
   ]
  },
  {
   "cell_type": "markdown",
   "metadata": {},
   "source": [
    "The tight binding paramaters are taken from [Chadi and Cohen (1975)](http://onlinelibrary.wiley.com/doi/10.1002/pssb.2220680140/abstract). $E_s$ and $E_p$ are arbitrary as long as they obey $E_p - E_s = 7.20$. $E_s$ determines the zero of the energy (here the valence band maximum)\n"
   ]
  },
  {
   "cell_type": "code",
   "execution_count": 46,
   "metadata": {
    "collapsed": false
   },
   "outputs": [],
   "source": [
    "# Es, Ep, Vss, Vsp, Vxx, Vxy\n",
    "# Ep - Es = 7.20\n",
    "params = (-4.03, 3.17, -8.13, 5.88, 3.17, 7.51)\n",
    "\n",
    "# k-points per path\n",
    "n = 100\n",
    "\n",
    "# lattice constant\n",
    "a = 1\n",
    "\n",
    "# nearest neighbors to atom at (0, 0, 0)\n",
    "neighbors = a / 4 *  np.array([\n",
    "    [1, 1, 1],\n",
    "    [1, -1, -1],\n",
    "    [-1, 1, -1],\n",
    "    [-1, -1, 1]\n",
    "])\n",
    "\n",
    "# symmetry points in the Brillouin zone\n",
    "#         see http://www.cryst.ehu.es/cryst/get_kvec.html \n",
    "G = 2 * np.pi / a * np.array([0, 0, 0])\n",
    "L = 2 * np.pi / a * np.array([1/2, 1/2, 1/2])\n",
    "K = 2 * np.pi / a * np.array([3/4, 3/4, 0])\n",
    "X = 2 * np.pi / a * np.array([0, 0, 1])\n",
    "W = 2 * np.pi / a * np.array([1, 1/2, 0])\n",
    "U = 2 * np.pi / a * np.array([1/4, 1/4, 1])\n",
    "\n",
    "# k-paths\n",
    "lambd = linpath(L, G, n, endpoint=False)\n",
    "delta = linpath(G, X, n, endpoint=False)\n",
    "x_uk = linpath(X, U, n // 4, endpoint=False)\n",
    "sigma = linpath(K, G, n, endpoint=True)"
   ]
  },
  {
   "cell_type": "markdown",
   "metadata": {},
   "source": [
    "### Calculate Band Structure"
   ]
  },
  {
   "cell_type": "code",
   "execution_count": 47,
   "metadata": {
    "collapsed": false
   },
   "outputs": [
    {
     "data": {
      "image/png": "[encoded data removed]",
      "text/plain": [
       "<matplotlib.figure.Figure at 0x109083f60>"
      ]
     },
     "metadata": {},
     "output_type": "display_data"
    }
   ],
   "source": [
    "bands = band_structure(params, neighbors, path=[lambd, delta, x_uk, sigma])\n",
    "\n",
    "# plot setup\n",
    "plt.figure(figsize=(6,4))\n",
    "fontSize = 16\n",
    "mpl.rc('font', **{ 'family' : 'serif', 'size' : fontSize, 'serif' : 'Times New Roman' })\n",
    "mpl.rc('lines', **{ 'linewidth' : 0.5 })\n",
    "axes = plt.gca()\n",
    "for spine in axes.spines.values():\n",
    "    spine.set_linewidth(1.0)\n",
    "plt.tight_layout()\n",
    "\n",
    "# axis range and titles\n",
    "ylim(-13,13)\n",
    "plt.xlabel('$k$-Path')\n",
    "plt.ylabel('Energy (eV)')\n",
    "\n",
    "# tick labels for k-points\n",
    "xticks = n * np.array([0, 0.5, 1, 1.5, 2, 2.25, 2.75, 3.25])\n",
    "plt.xticks(xticks, ('$L$', '$\\Lambda$', '$\\Gamma$', '$\\Delta$', '$X$', '$K$', '$\\Sigma$', '$\\Gamma$'))\n",
    "\n",
    "# horizontal guide lines every 5 eV\n",
    "for y in np.arange(-25, 25, 5):\n",
    "    plt.axhline(y, ls='--', lw=0.3, color='black', alpha=0.3)\n",
    "\n",
    "# plot the bands    \n",
    "for band in bands:\n",
    "    plt.plot(band, lw=2.0, color=\"darkcyan\")\n",
    "\n",
    "plt.show()"
   ]
  },
  {
   "cell_type": "markdown",
   "metadata": {},
   "source": [
    "### Comparison to 1975 "
   ]
  },
  {
   "cell_type": "markdown",
   "metadata": {},
   "source": [
    " | $\\Gamma_{25'}$ | $\\Gamma_{1}$ | $\\Gamma_{15}$ | $\\Gamma_{2'}$ | $L_{2'}$ | $L_1$ | $L_{3'}$ | $X_1$ | $X_4$ | $\\Sigma\\text{(0.5, 0.5, 0)}$ | $\\Sigma\\text{(0.7, 0.7, 0)}$\n",
    ":--- | :---: | :---: | :---: | :---: | :---: | :---: | :---: | :---: | :---: | :---: | :---:\n",
    "Calculated | 0 | -12.16 | 4.10 | 4.10 | -9.49 | -6.64 | -2.17 | -7.32 | -4.34 | -3.51 | -4.25\n",
    "Chadi and Cohen | 0 | -12.16 | 3.42 | 4.10 | -9.44 | -7.11 | -1.44 | -7.70 | -2.87 | -3.84 | -4.32\n"
   ]
  },
  {
   "cell_type": "markdown",
   "metadata": {
    "collapsed": true
   },
   "source": [
    "## Supplementary Links \n",
    "\n",
    "* Python Quantum Chemistry: http://pyquante.sourceforge.net\n",
    "* Python Tight Binding: http://www.physics.rutgers.edu/pythtb/index.html\n",
    "* GPAW: https://wiki.fysik.dtu.dk/gpaw/"
   ]
  }
 ],
 "metadata": {
  "kernelspec": {
   "display_name": "Python 3",
   "language": "python",
   "name": "python3"
  },
  "language_info": {
   "codemirror_mode": {
    "name": "ipython",
    "version": 3
   },
   "file_extension": ".py",
   "mimetype": "text/x-python",
   "name": "python",
   "nbconvert_exporter": "python",
   "pygments_lexer": "ipython3",
   "version": "3.5.2"
  }
 },
 "nbformat": 4,
 "nbformat_minor": 0
}
